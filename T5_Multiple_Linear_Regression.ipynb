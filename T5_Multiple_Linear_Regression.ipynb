{
  "nbformat": 4,
  "nbformat_minor": 0,
  "metadata": {
    "colab": {
      "provenance": [],
      "authorship_tag": "ABX9TyOQP1W2CnWiECLzLJO7U1z5",
      "include_colab_link": true
    },
    "kernelspec": {
      "name": "python3",
      "display_name": "Python 3"
    },
    "language_info": {
      "name": "python"
    }
  },
  "cells": [
    {
      "cell_type": "markdown",
      "metadata": {
        "id": "view-in-github",
        "colab_type": "text"
      },
      "source": [
        "<a href=\"https://colab.research.google.com/github/LbNaveen/MLDA/blob/main/T5_Multiple_Linear_Regression.ipynb\" target=\"_parent\"><img src=\"https://colab.research.google.com/assets/colab-badge.svg\" alt=\"Open In Colab\"/></a>"
      ]
    },
    {
      "cell_type": "code",
      "source": [
        "import pandas as pd\n",
        "from sklearn.preprocessing import LabelEncoder\n",
        "from sklearn.model_selection import train_test_split\n",
        "from sklearn.linear_model import LinearRegression\n",
        "from sklearn.metrics import mean_squared_error,r2_score\n",
        "\n",
        "data = pd.read_csv(\"Health_Risk_Dataset.csv\")\n",
        "print(data.head())\n",
        "\n",
        "# Select features and target variable relevant to the dataset\n",
        "x = data[[\"Respiratory_Rate\", \"Oxygen_Saturation\", \"Systolic_BP\", \"Heart_Rate\", \"Temperature\"]]\n",
        "\n",
        "# Encode the target variable 'Risk_Level'\n",
        "le = LabelEncoder()\n",
        "y = le.fit_transform(data[\"Risk_Level\"])\n",
        "\n",
        "print(\"\\nFeatures (x) head:\")\n",
        "print(x.head())\n",
        "print(\"\\nTarget (y) head (encoded Risk_Level):\")\n",
        "print(y[:5])\n",
        "\n",
        "\n",
        "x_train, x_test, y_train, y_test = train_test_split(x, y, test_size=0.2, random_state=2)\n",
        "\n",
        "lrr = LinearRegression()\n",
        "lrr.fit(x_train, y_train)\n",
        "y_lrr_pred = lrr.predict(x_test)\n",
        "\n",
        "mse = mean_squared_error(y_test, y_lrr_pred)\n",
        "r2 = r2_score(y_test, y_lrr_pred)\n",
        "\n",
        "print(\"\\nLinear Regression MSE:\", mse)\n",
        "print(\"Linear Regression R2:\", r2)"
      ],
      "metadata": {
        "colab": {
          "base_uri": "https://localhost:8080/"
        },
        "id": "0As_EzngV5yD",
        "outputId": "59125671-dda9-4824-b5e6-ef2df98b21de"
      },
      "execution_count": null,
      "outputs": [
        {
          "output_type": "stream",
          "name": "stdout",
          "text": [
            "  Patient_ID  Respiratory_Rate  Oxygen_Saturation  O2_Scale  Systolic_BP  \\\n",
            "0      P0522                25                 96         1           97   \n",
            "1      P0738                28                 92         2          116   \n",
            "2      P0741                29                 91         1           79   \n",
            "3      P0661                24                 96         1           95   \n",
            "4      P0412                20                 96         1           97   \n",
            "\n",
            "   Heart_Rate  Temperature Consciousness  On_Oxygen Risk_Level  \n",
            "0         107         37.5             A          0     Medium  \n",
            "1         151         38.5             P          1       High  \n",
            "2         135         38.4             A          0       High  \n",
            "3          92         37.3             A          0     Medium  \n",
            "4          97         37.4             A          0        Low  \n",
            "\n",
            "Features (x) head:\n",
            "   Respiratory_Rate  Oxygen_Saturation  Systolic_BP  Heart_Rate  Temperature\n",
            "0                25                 96           97         107         37.5\n",
            "1                28                 92          116         151         38.5\n",
            "2                29                 91           79         135         38.4\n",
            "3                24                 96           95          92         37.3\n",
            "4                20                 96           97          97         37.4\n",
            "\n",
            "Target (y) head (encoded Risk_Level):\n",
            "[2 0 0 2 1]\n",
            "\n",
            "Linear Regression MSE: 0.38499976785366113\n",
            "Linear Regression R2: 0.6681036484020162\n"
          ]
        }
      ]
    }
  ]
}