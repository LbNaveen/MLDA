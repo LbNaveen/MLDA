{
  "nbformat": 4,
  "nbformat_minor": 0,
  "metadata": {
    "colab": {
      "provenance": [],
      "authorship_tag": "ABX9TyOFX/ZG3iYyznZpIDOtR8TJ",
      "include_colab_link": true
    },
    "kernelspec": {
      "name": "python3",
      "display_name": "Python 3"
    },
    "language_info": {
      "name": "python"
    }
  },
  "cells": [
    {
      "cell_type": "markdown",
      "metadata": {
        "id": "view-in-github",
        "colab_type": "text"
      },
      "source": [
        "<a href=\"https://colab.research.google.com/github/LbNaveen/MLDA/blob/main/T2_Simple_Linear_Regression.ipynb\" target=\"_parent\"><img src=\"https://colab.research.google.com/assets/colab-badge.svg\" alt=\"Open In Colab\"/></a>"
      ]
    },
    {
      "cell_type": "code",
      "source": [
        "import pandas as pd\n",
        "from sklearn.model_selection import train_test_split\n",
        "from sklearn.linear_model import LinearRegression\n",
        "from sklearn.metrics import mean_squared_error, r2_score\n",
        "from sklearn.preprocessing import LabelEncoder, StandardScaler\n",
        "\n",
        "# Step 1: Load dataset\n",
        "data = pd.read_csv(\"Employee.csv\")  # Use the downloaded dataset\n",
        "print(\"First 5 rows:\\n\", data.head(), \"\\n\")\n",
        "\n",
        "# Step 2: Select relevant columns (assumed names; update based on actual dataset)\n",
        "# For example: Features could include 'YearsOfExperience'; Target could be 'MonthlyIncome'\n",
        "feature = 'ExperienceInCurrentDomain'\n",
        "target = 'LeaveOrNot'\n",
        "\n",
        "# Optional: Encode or transform if needed (e.g., categorical or skewed)\n",
        "# Example: If feature is categorical, encode it; usually numeric for linear regression\n",
        "# data[feature] = LabelEncoder().fit_transform(data[feature])\n",
        "\n",
        "# Step 3: Split data into train and test\n",
        "X = data[[feature]]\n",
        "y = data[target]\n",
        "X_train, X_test, y_train, y_test = train_test_split(X, y, test_size=0.2, random_state=42)\n",
        "\n",
        "# Step 4: Fit linear regression model\n",
        "model = LinearRegression()\n",
        "model.fit(X_train, y_train)\n",
        "\n",
        "# Step 5: Predict and evaluate\n",
        "y_pred = model.predict(X_test)\n",
        "print(f\"Slope (m): {model.coef_[0]}\")\n",
        "print(f\"Intercept (c): {model.intercept_}\")\n",
        "print(\"MSE:\", mean_squared_error(y_test, y_pred))\n",
        "print(\"R² Score:\", r2_score(y_test, y_pred))"
      ],
      "metadata": {
        "colab": {
          "base_uri": "https://localhost:8080/"
        },
        "id": "wya4-mPMxpsd",
        "outputId": "44d6be9c-bc3a-4c6d-fd84-5180023e1582"
      },
      "execution_count": 1,
      "outputs": [
        {
          "output_type": "stream",
          "name": "stdout",
          "text": [
            "First 5 rows:\n",
            "    Education  JoiningYear       City  PaymentTier  Age  Gender EverBenched  \\\n",
            "0  Bachelors         2017  Bangalore            3   34    Male          No   \n",
            "1  Bachelors         2013       Pune            1   28  Female          No   \n",
            "2  Bachelors         2014  New Delhi            3   38  Female          No   \n",
            "3    Masters         2016  Bangalore            3   27    Male          No   \n",
            "4    Masters         2017       Pune            3   24    Male         Yes   \n",
            "\n",
            "   ExperienceInCurrentDomain  LeaveOrNot  \n",
            "0                          0           0  \n",
            "1                          3           1  \n",
            "2                          2           0  \n",
            "3                          5           1  \n",
            "4                          2           1   \n",
            "\n",
            "Slope (m): -0.010448937479323041\n",
            "Intercept (c): 0.373979853345374\n",
            "MSE: 0.22594065219029158\n",
            "R² Score: -0.0001355683218902115\n"
          ]
        }
      ]
    }
  ]
}