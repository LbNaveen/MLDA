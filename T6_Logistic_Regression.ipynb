{
  "nbformat": 4,
  "nbformat_minor": 0,
  "metadata": {
    "colab": {
      "provenance": [],
      "authorship_tag": "ABX9TyNOwN/27lcC8/ubX8G5zQ5x",
      "include_colab_link": true
    },
    "kernelspec": {
      "name": "python3",
      "display_name": "Python 3"
    },
    "language_info": {
      "name": "python"
    }
  },
  "cells": [
    {
      "cell_type": "markdown",
      "metadata": {
        "id": "view-in-github",
        "colab_type": "text"
      },
      "source": [
        "<a href=\"https://colab.research.google.com/github/LbNaveen/MLDA/blob/main/T6_Logistic_Regression.ipynb\" target=\"_parent\"><img src=\"https://colab.research.google.com/assets/colab-badge.svg\" alt=\"Open In Colab\"/></a>"
      ]
    },
    {
      "cell_type": "code",
      "source": [
        "import pandas as pd\n",
        "from sklearn.model_selection import train_test_split\n",
        "from sklearn.preprocessing import StandardScaler\n",
        "from sklearn.linear_model import LogisticRegression\n",
        "from sklearn.metrics import accuracy_score\n",
        "\n",
        "# Load dataset\n",
        "data = pd.read_csv(\"student_exam_scores.csv\")\n",
        "print(data.head())\n",
        "\n",
        "# Create binary target column: pass = 1 if exam_score >= 50\n",
        "data[\"pass_fail\"] = (data[\"exam_score\"] >= 50).astype(int)\n",
        "\n",
        "# Define features and target\n",
        "X = data[[\"hours_studied\", \"sleep_hours\", \"attendance_percent\", \"previous_scores\"]]\n",
        "y = data[\"pass_fail\"]\n",
        "\n",
        "# Standardize feature values\n",
        "scaler = StandardScaler()\n",
        "X_scaled = scaler.fit_transform(X)\n",
        "\n",
        "# Train-test split\n",
        "x_train, x_test, y_train, y_test = train_test_split(X_scaled, y, test_size=0.2, random_state=2)\n",
        "\n",
        "# Logistic Regression model\n",
        "lr = LogisticRegression(max_iter=1000)\n",
        "lr.fit(x_train, y_train)\n",
        "\n",
        "# Make predictions\n",
        "y_lr_pred = lr.predict(x_test)\n",
        "\n",
        "# Output shapes for verification\n",
        "print(\"y_test shape:\", y_test.shape)\n",
        "print(\"y_lr_pred shape:\", y_lr_pred.shape)\n",
        "\n",
        "# Evaluate model\n",
        "accuracy_lr = accuracy_score(y_test, y_lr_pred)\n",
        "print(\"Accuracy of Logistic Regression:\", accuracy_lr)\n"
      ],
      "metadata": {
        "colab": {
          "base_uri": "https://localhost:8080/"
        },
        "id": "ko0adIvhZPNd",
        "outputId": "1aef4cc9-12e4-4793-9838-0f0a7efbcfd3"
      },
      "execution_count": 3,
      "outputs": [
        {
          "output_type": "stream",
          "name": "stdout",
          "text": [
            "  student_id  hours_studied  sleep_hours  attendance_percent  previous_scores  \\\n",
            "0       S001            8.0          8.8                72.1               45   \n",
            "1       S002            1.3          8.6                60.7               55   \n",
            "2       S003            4.0          8.2                73.7               86   \n",
            "3       S004            3.5          4.8                95.1               66   \n",
            "4       S005            9.1          6.4                89.8               71   \n",
            "\n",
            "   exam_score  \n",
            "0        30.2  \n",
            "1        25.0  \n",
            "2        35.8  \n",
            "3        34.0  \n",
            "4        40.3  \n",
            "y_test shape: (40,)\n",
            "y_lr_pred shape: (40,)\n",
            "Accuracy of Logistic Regression: 1.0\n"
          ]
        }
      ]
    }
  ]
}