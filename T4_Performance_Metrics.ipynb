{
  "nbformat": 4,
  "nbformat_minor": 0,
  "metadata": {
    "colab": {
      "provenance": [],
      "authorship_tag": "ABX9TyMyLFzhZmuNKpm6NYUdEp83",
      "include_colab_link": true
    },
    "kernelspec": {
      "name": "python3",
      "display_name": "Python 3"
    },
    "language_info": {
      "name": "python"
    }
  },
  "cells": [
    {
      "cell_type": "markdown",
      "metadata": {
        "id": "view-in-github",
        "colab_type": "text"
      },
      "source": [
        "<a href=\"https://colab.research.google.com/github/LbNaveen/MLDA/blob/main/T4_Performance_Metrics.ipynb\" target=\"_parent\"><img src=\"https://colab.research.google.com/assets/colab-badge.svg\" alt=\"Open In Colab\"/></a>"
      ]
    },
    {
      "cell_type": "code",
      "source": [
        "import pandas as pd\n",
        "from sklearn.model_selection import train_test_split\n",
        "from sklearn.linear_model import LinearRegression\n",
        "from sklearn.metrics import mean_squared_error, r2_score\n",
        "\n",
        "# Step 1: Load the dataset\n",
        "data = pd.read_csv(\"Attrition_Data[1].csv\")  # Replace with actual filename\n",
        "print(\"First 5 rows:\\n\", data.head(), \"\\n\")\n",
        "\n",
        "# Step 2: Select feature and target\n",
        "# Based on dataset columns: e.g., feature = 'YearsAtCompany', target = 'MonthlyIncome'\n",
        "feature = 'YearsAtCompany'\n",
        "target = 'MonthlyIncome'\n",
        "X = data[[feature]]\n",
        "y = data[target]\n",
        "\n",
        "# Step 3: Split into training and testing sets (80% train, 20% test)\n",
        "X_train, X_test, y_train, y_test = train_test_split(X, y, test_size=0.2, random_state=42)\n",
        "\n",
        "# Step 4: Build and train the linear regression model\n",
        "lr_model = LinearRegression()\n",
        "lr_model.fit(X_train, y_train)\n",
        "\n",
        "# Step 5: Make predictions\n",
        "y_pred = lr_model.predict(X_test)\n",
        "\n",
        "# Step 6: Evaluate model performance\n",
        "mse = mean_squared_error(y_test, y_pred)\n",
        "r2 = r2_score(y_test, y_pred)\n",
        "\n",
        "print(\"Coefficient (Slope):\", lr_model.coef_[0])\n",
        "print(\"Intercept:\", lr_model.intercept_)\n",
        "print(\"Mean Squared Error (MSE):\", mse)\n",
        "print(\"R² Score:\", r2)"
      ],
      "metadata": {
        "colab": {
          "base_uri": "https://localhost:8080/"
        },
        "id": "8fExz88nLHTm",
        "outputId": "063f0566-0ba9-48df-bbf5-aeb7104f4917"
      },
      "execution_count": 3,
      "outputs": [
        {
          "output_type": "stream",
          "name": "stdout",
          "text": [
            "First 5 rows:\n",
            "    Age Attrition              Department  DistanceFromHome  Education  \\\n",
            "0   41       Yes                   Sales                 1          2   \n",
            "1   49        No  Research & Development                 8          1   \n",
            "2   37       Yes  Research & Development                 2          2   \n",
            "3   33        No  Research & Development                 3          4   \n",
            "4   27        No  Research & Development                 2          1   \n",
            "\n",
            "  EducationField  EnvironmentSatisfaction  JobSatisfaction MaritalStatus  \\\n",
            "0  Life Sciences                        2                4        Single   \n",
            "1  Life Sciences                        3                2       Married   \n",
            "2          Other                        4                3        Single   \n",
            "3  Life Sciences                        4                3       Married   \n",
            "4        Medical                        1                2       Married   \n",
            "\n",
            "   MonthlyIncome  NumCompaniesWorked  WorkLifeBalance  YearsAtCompany  \n",
            "0           5993                   8                1               6  \n",
            "1           5130                   1                3              10  \n",
            "2           2090                   6                3               0  \n",
            "3           2909                   1                3               8  \n",
            "4           3468                   9                3               2   \n",
            "\n",
            "Coefficient (Slope): 399.51912903777253\n",
            "Intercept: 3614.0872597544144\n",
            "Mean Squared Error (MSE): 16545260.14706934\n",
            "R² Score: 0.2429672490508472\n"
          ]
        }
      ]
    }
  ]
}