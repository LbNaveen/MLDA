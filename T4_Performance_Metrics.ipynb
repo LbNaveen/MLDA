{
  "nbformat": 4,
  "nbformat_minor": 0,
  "metadata": {
    "colab": {
      "provenance": [],
      "authorship_tag": "ABX9TyMIhLfPS+eZypB96kCPjNky",
      "include_colab_link": true
    },
    "kernelspec": {
      "name": "python3",
      "display_name": "Python 3"
    },
    "language_info": {
      "name": "python"
    }
  },
  "cells": [
    {
      "cell_type": "markdown",
      "metadata": {
        "id": "view-in-github",
        "colab_type": "text"
      },
      "source": [
        "<a href=\"https://colab.research.google.com/github/LbNaveen/MLDA/blob/main/T4_Performance_Metrics.ipynb\" target=\"_parent\"><img src=\"https://colab.research.google.com/assets/colab-badge.svg\" alt=\"Open In Colab\"/></a>"
      ]
    },
    {
      "cell_type": "code",
      "source": [
        "import pandas as pd\n",
        "from sklearn.preprocessing import LabelEncoder\n",
        "from sklearn.model_selection import train_test_split\n",
        "from sklearn.tree import DecisionTreeClassifier\n",
        "from sklearn.linear_model import LinearRegression\n",
        "from sklearn.metrics import accuracy_score,mean_squared_error, r2_score\n",
        "data=pd.read_csv(\"Attrition Data.csv\")\n",
        "print(data.head())\n",
        "le=LabelEncoder()\n",
        "data[\"MonthlyIncome\"]=le.fit_transform(data[\"MonthlyIncome\"])\n",
        "print(data.head())\n",
        "x=data[['EnvironmentSatisfaction', 'JobSatisfaction', 'NumCompaniesWorked',\n",
        "       'WorkLifeBalance', 'YearsAtCompany', 'MonthlyIncome']]\n",
        "x.head()\n",
        "y=data[\"Attrition\"]\n",
        "le_y = LabelEncoder()\n",
        "y = le_y.fit_transform(y)\n",
        "x.head()\n",
        "x_train,x_test,y_train,y_test=train_test_split(x,y,test_size=0.2,random_state=2)\n",
        "dt=DecisionTreeClassifier(criterion=\"entropy\")\n",
        "dt.fit(x_train,y_train)\n",
        "y_dt_pred=dt.predict(x_test)\n",
        "accuracy_dt=accuracy_score(y_test,y_dt_pred)\n",
        "print(\"Accuracy:\",accuracy_dt)\n",
        "lrr = LinearRegression()\n",
        "lrr.fit(x_train, y_train)\n",
        "y_lrr_pred = lrr.predict(x_test)\n",
        "\n",
        "mse = mean_squared_error(y_test, y_lrr_pred)\n",
        "r2 = r2_score(y_test, y_lrr_pred)\n",
        "\n",
        "print(\"Linear Regression MSE:\", mse)\n",
        "print(\"Linear Regression R2:\", r2)"
      ],
      "metadata": {
        "colab": {
          "base_uri": "https://localhost:8080/"
        },
        "id": "UdqtEZy9TN99",
        "outputId": "973696dd-c6e1-4d0f-9d52-d42a50dc7ea0"
      },
      "execution_count": null,
      "outputs": [
        {
          "output_type": "stream",
          "name": "stdout",
          "text": [
            "   Age Attrition              Department  DistanceFromHome  Education  \\\n",
            "0   41       Yes                   Sales                 1          2   \n",
            "1   49        No  Research & Development                 8          1   \n",
            "2   37       Yes  Research & Development                 2          2   \n",
            "3   33        No  Research & Development                 3          4   \n",
            "4   27        No  Research & Development                 2          1   \n",
            "\n",
            "  EducationField  EnvironmentSatisfaction  JobSatisfaction MaritalStatus  \\\n",
            "0  Life Sciences                        2                4        Single   \n",
            "1  Life Sciences                        3                2       Married   \n",
            "2          Other                        4                3        Single   \n",
            "3  Life Sciences                        4                3       Married   \n",
            "4        Medical                        1                2       Married   \n",
            "\n",
            "   MonthlyIncome  NumCompaniesWorked  WorkLifeBalance  YearsAtCompany  \n",
            "0           5993                   8                1               6  \n",
            "1           5130                   1                3              10  \n",
            "2           2090                   6                3               0  \n",
            "3           2909                   1                3               8  \n",
            "4           3468                   9                3               2  \n",
            "   Age Attrition              Department  DistanceFromHome  Education  \\\n",
            "0   41       Yes                   Sales                 1          2   \n",
            "1   49        No  Research & Development                 8          1   \n",
            "2   37       Yes  Research & Development                 2          2   \n",
            "3   33        No  Research & Development                 3          4   \n",
            "4   27        No  Research & Development                 2          1   \n",
            "\n",
            "  EducationField  EnvironmentSatisfaction  JobSatisfaction MaritalStatus  \\\n",
            "0  Life Sciences                        2                4        Single   \n",
            "1  Life Sciences                        3                2       Married   \n",
            "2          Other                        4                3        Single   \n",
            "3  Life Sciences                        4                3       Married   \n",
            "4        Medical                        1                2       Married   \n",
            "\n",
            "   MonthlyIncome  NumCompaniesWorked  WorkLifeBalance  YearsAtCompany  \n",
            "0            809                   8                1               6  \n",
            "1            682                   1                3              10  \n",
            "2             62                   6                3               0  \n",
            "3            313                   1                3               8  \n",
            "4            399                   9                3               2  \n",
            "Accuracy: 0.7721088435374149\n",
            "Linear Regression MSE: 0.128982991462438\n",
            "Linear Regression R2: 0.05582877286184862\n"
          ]
        }
      ]
    },
    {
      "cell_type": "code",
      "metadata": {
        "colab": {
          "base_uri": "https://localhost:8080/"
        },
        "id": "f7ac00c8",
        "outputId": "05392428-2b25-4737-c468-5c8efa7c136c"
      },
      "source": [
        "print(data.columns)"
      ],
      "execution_count": null,
      "outputs": [
        {
          "output_type": "stream",
          "name": "stdout",
          "text": [
            "Index(['Age', 'Attrition', 'Department', 'DistanceFromHome', 'Education',\n",
            "       'EducationField', 'EnvironmentSatisfaction', 'JobSatisfaction',\n",
            "       'MaritalStatus', 'MonthlyIncome', 'NumCompaniesWorked',\n",
            "       'WorkLifeBalance', 'YearsAtCompany'],\n",
            "      dtype='object')\n"
          ]
        }
      ]
    }
  ]
}